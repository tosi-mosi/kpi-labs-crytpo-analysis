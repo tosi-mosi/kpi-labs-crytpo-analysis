{
  "nbformat": 4,
  "nbformat_minor": 0,
  "metadata": {
    "colab": {
      "name": "CrAn 1",
      "provenance": []
    },
    "kernelspec": {
      "name": "python3",
      "display_name": "Python 3"
    },
    "language_info": {
      "name": "python"
    }
  },
  "cells": [
    {
      "cell_type": "code",
      "metadata": {
        "id": "vRQVkV0q7P0H"
      },
      "source": [
        "import numpy as np\n",
        "import pandas as pd"
      ],
      "execution_count": 19,
      "outputs": []
    },
    {
      "cell_type": "code",
      "metadata": {
        "id": "e_zL_qOj7r8N"
      },
      "source": [
        "CsvProb = pd.read_csv(\"prob_01.csv\", header=None).to_numpy()\n",
        "CsvTable = pd.read_csv(\"table_01.csv\", header=None).to_numpy()"
      ],
      "execution_count": null,
      "outputs": []
    },
    {
      "cell_type": "code",
      "metadata": {
        "id": "0bvWTPByixRG"
      },
      "source": [
        "Prob_M = [m for m in CsvProb[0]]\n",
        "Prob_k = [k for k in CsvProb[1]]\n",
        "Prob_C = np.zeros(20)\n",
        "\n",
        "for i in range(20) :\n",
        "  tmp = zip(np.where(CsvProb == 0))\n",
        "  for pair in tmp :\n",
        "    Prob_C += Prob_k[pair[0]] * Prob_M[pair[1]]\n",
        "\n",
        "Prob_McC = np.zeros((20, 20))\n",
        "\n",
        "for c in range(20) :\n",
        "  for m in range(20) :\n",
        "    tmp = np.where(CsvTable[:, m] == c)\n",
        "    for k in tmp :\n",
        "      Prob_McC[c][m] += Prob_M[m] * Prob_k[k]"
      ],
      "execution_count": null,
      "outputs": []
    },
    {
      "cell_type": "code",
      "metadata": {
        "id": "JYjZwVgEEvRG"
      },
      "source": [
        "Prob_MlC = np.zeros((20, 20))"
      ],
      "execution_count": null,
      "outputs": []
    }
  ]
}