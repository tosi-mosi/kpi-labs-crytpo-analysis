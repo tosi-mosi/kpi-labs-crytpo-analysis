{
  "nbformat": 4,
  "nbformat_minor": 0,
  "metadata": {
    "colab": {
      "name": "CrAn 1",
      "provenance": []
    },
    "kernelspec": {
      "name": "python3",
      "display_name": "Python 3"
    },
    "language_info": {
      "name": "python"
    }
  },
  "cells": [
    {
      "cell_type": "code",
      "metadata": {
        "id": "vRQVkV0q7P0H"
      },
      "source": [
        "import numpy as np\n",
        "import pandas as pd"
      ],
      "execution_count": null,
      "outputs": []
    },
    {
      "cell_type": "code",
      "metadata": {
        "id": "e_zL_qOj7r8N"
      },
      "source": [
        "#convetring tables to numpy arrays for convenient indexation\n",
        "CsvProb = pd.read_csv(\"prob_01.csv\", header=None).to_numpy()\n",
        "CsvTable = pd.read_csv(\"table_01.csv\", header=None).to_numpy()"
      ],
      "execution_count": null,
      "outputs": []
    },
    {
      "cell_type": "code",
      "metadata": {
        "id": "0bvWTPByixRG"
      },
      "source": [
        "Prob_M = [m for m in CsvProb[0]] #seqences of P(M)\n",
        "Prob_k = [k for k in CsvProb[1]] #and P(k)\n",
        "\n",
        "Prob_C = np.zeros(20)\n",
        "\n",
        "for i in range(20) :\n",
        "  tmp = zip(np.where(CsvProb == 0))\n",
        "  for pair in tmp :\n",
        "    Prob_C += Prob_k[pair[0]] * Prob_M[pair[1]]\n",
        "\n",
        "#table for P(M, C)\n",
        "#C by rows, M by columns\n",
        "Prob_McC = np.zeros((20, 20))\n",
        "\n",
        "for c in range(20) :\n",
        "  for m in range(20) :\n",
        "    tmp = np.where(CsvTable[:, m] == c)\n",
        "    for k in tmp :\n",
        "      Prob_McC[c][m] += Prob_M[m] * Prob_k[k]"
      ],
      "execution_count": null,
      "outputs": []
    },
    {
      "cell_type": "code",
      "metadata": {
        "id": "JYjZwVgEEvRG"
      },
      "source": [
        "#table for P(M|C)\n",
        "#the same way\n",
        "Prob_MlC = np.zeros((20, 20))\n",
        "\n",
        "for i in range(20) :\n",
        "  Prob_McC[i] /= Prob_C[i]"
      ],
      "execution_count": null,
      "outputs": []
    },
    {
      "cell_type": "code",
      "metadata": {
        "id": "AfHIgZpxiW-v"
      },
      "source": [
        "#array is expected to cosist of positive floats\n",
        "def max_idx_of_array (arr) :\n",
        "  idx = -1\n",
        "  max = 0.0\n",
        "  for i in range(arr.shape[0]) :\n",
        "    if arr[i] > max :\n",
        "      max, idx = arr[i], i\n",
        "  return idx\n",
        "\n",
        "#table for deterministic desicion function\n",
        "DT = np.zeros((20, 20))\n",
        "\n",
        "#we define cells with max P(M|C) for a fixed C as 1\n",
        "#and all else as 0\n",
        "for row_MlC, row_DT in zip(Prob_MlC, DT) :\n",
        "  tmp = max_idx_of_array(row_MlC)\n",
        "  row_DT[tmp] = 1"
      ],
      "execution_count": null,
      "outputs": []
    },
    {
      "cell_type": "code",
      "metadata": {
        "id": "oVFvkqEiltMP"
      },
      "source": [
        "#accuracy testing based on average loss function\n",
        "\n",
        "#given table DT, P(M|C) and sequence P(C) \n",
        "#compute average loss\n",
        "def avg_loss_det (DT, Prob_MlC, Prob_C) :\n",
        "  r = 0\n",
        "  for i in range(20) :\n",
        "    idx = max_idx_of_array(DT[i]) #index of cell defined with 1\n",
        "    r += Prob_C[i] * (1 - Prob_MlC[i][idx])\n",
        "  return r"
      ],
      "execution_count": null,
      "outputs": []
    },
    {
      "cell_type": "code",
      "metadata": {
        "id": "JWnE4PpY8sTz"
      },
      "source": [
        "#same as max_idx_of_array(arr), but returns a list\n",
        "#if there is several maxima\n",
        "def max_idxs_of_array(arr) :\n",
        "  arrn = np.array(arr)\n",
        "  maximum = np.amax(arrn)\n",
        "  return np.where(arrn == maximum)\n",
        "\n",
        "#build table for stochastic function\n",
        "ST = np.zeros((20, 20))\n",
        "\n",
        "for row_MlC, row_ST in zip(Prob_MlC, ST) :\n",
        "  idxs = max_idxs_of_array(row_MlC)\n",
        "  m = idxs.shape[0]\n",
        "  for i in idxs :\n",
        "    row_ST[i] = 1.0 / m"
      ],
      "execution_count": null,
      "outputs": []
    },
    {
      "cell_type": "code",
      "metadata": {
        "id": "9z6WTC2OGaiD"
      },
      "source": [
        "#given stochastic table ST and cyphertext C (by its index)\n",
        "#randomly returns index among maxima, that is, decided open text\n",
        "def stochastic_desicion(ST, C) :\n",
        "  idxs = np.where(ST[C] > 0)\n",
        "  m = idxs.shape[0]\n",
        "  return idxs[np.random.randint(0, m)]"
      ],
      "execution_count": null,
      "outputs": []
    }
  ]
}